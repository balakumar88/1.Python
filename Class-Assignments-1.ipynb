{
 "cells": [
  {
   "cell_type": "code",
   "execution_count": 2,
   "id": "5b9d553a",
   "metadata": {},
   "outputs": [],
   "source": [
    "# Create a class and function, and list out the items in the list\n",
    "class subfieldsinAI():\n",
    "    def subfields():\n",
    "        print(\"Sub-fiedls in AI are:\")\n",
    "        list = ['Machine Learning','Neural Networks','Vision','Robotics','Speech Processing','Natural Language Processing']\n",
    "        list1=[]\n",
    "        for i in list:\n",
    "            print(i)\n",
    "            r=list1.append(i)      "
   ]
  },
  {
   "cell_type": "code",
   "execution_count": 3,
   "id": "b4469350",
   "metadata": {},
   "outputs": [
    {
     "name": "stdout",
     "output_type": "stream",
     "text": [
      "Sub-fiedls in AI are:\n",
      "Machine Learning\n",
      "Neural Networks\n",
      "Vision\n",
      "Robotics\n",
      "Speech Processing\n",
      "Natural Language Processing\n"
     ]
    }
   ],
   "source": [
    "subfieldsinAI.subfields()"
   ]
  },
  {
   "cell_type": "code",
   "execution_count": 5,
   "id": "f25bf08f",
   "metadata": {},
   "outputs": [],
   "source": [
    "# Create a function that checks whether the given number is Odd or Even\n",
    "class oddeven():\n",
    "    def oddeven():\n",
    "        num=int(input(\"Enter your number:\"))\n",
    "        if num%2==0:\n",
    "            print(num,\"is Even number\")\n",
    "        else:\n",
    "            print(num,\"is Odd number\")\n",
    " "
   ]
  },
  {
   "cell_type": "code",
   "execution_count": 7,
   "id": "6a92b954",
   "metadata": {},
   "outputs": [
    {
     "name": "stdout",
     "output_type": "stream",
     "text": [
      "Enter your number:52452\n",
      "52452 is Even number\n"
     ]
    }
   ],
   "source": [
    "oddeven.oddeven()"
   ]
  },
  {
   "cell_type": "code",
   "execution_count": 8,
   "id": "63340d98",
   "metadata": {},
   "outputs": [],
   "source": [
    "# Create a function that tells elegibility of marriage for male and female according \n",
    "# to their age limit like 21 for male and 18 for female\n",
    "class eligiblityformarriage():\n",
    "    def eligible():\n",
    "        gender=input(\"Your Gender: \")\n",
    "        age=int(input(\"Your Age: \"))\n",
    "        a=gender.casefold()\n",
    "        b=age\n",
    "        if  a==\"male\" and b==21:\n",
    "            print(\"ELIGIBLE\")\n",
    "        elif a==\"female\" and b==18:\n",
    "            print(\"ELIGIBLE\")\n",
    "        else:\n",
    "            print(\"NOT ELIGIBLE\")   \n"
   ]
  },
  {
   "cell_type": "code",
   "execution_count": 9,
   "id": "059c7caa",
   "metadata": {},
   "outputs": [
    {
     "name": "stdout",
     "output_type": "stream",
     "text": [
      "Your Gender: Male\n",
      "Your Age: 20\n",
      "NOT ELIGIBLE\n"
     ]
    }
   ],
   "source": [
    "eligiblityformarriage.eligible()"
   ]
  },
  {
   "cell_type": "code",
   "execution_count": 11,
   "id": "c0cc3e70",
   "metadata": {},
   "outputs": [],
   "source": [
    "# calculate the percentage of your 10th mark\n",
    "class findpercent():\n",
    "    def percentage():\n",
    "        sub1=int(input(\"Subject1= \"))\n",
    "        sub2=int(input(\"Subject2= \"))\n",
    "        sub3=int(input(\"Subject3= \"))\n",
    "        sub4=int(input(\"Subject4= \"))\n",
    "        sub5=int(input(\"Subject5= \"))\n",
    "        total=sub1+sub2+sub3+sub4+sub5\n",
    "        print(\"Total :\",total)\n",
    "        percent=total/5\n",
    "        print(\"Percentage :\",percent)    \n",
    "\n"
   ]
  },
  {
   "cell_type": "code",
   "execution_count": 12,
   "id": "4d8c89ab",
   "metadata": {},
   "outputs": [
    {
     "name": "stdout",
     "output_type": "stream",
     "text": [
      "Subject1= 98\n",
      "Subject2= 87\n",
      "Subject3= 95\n",
      "Subject4= 95\n",
      "Subject5= 93\n",
      "Total : 468\n",
      "Percentage : 93.6\n"
     ]
    }
   ],
   "source": [
    "findpercent.percentage()"
   ]
  },
  {
   "cell_type": "code",
   "execution_count": 13,
   "id": "9e3d3674",
   "metadata": {},
   "outputs": [],
   "source": [
    "#print area and perimeter of triangle using class and functions\n",
    "class triangle():\n",
    "    def triangle():\n",
    "        h=int(input(\"Height:\"))\n",
    "        b=int(input(\"Breadth:\"))\n",
    "        print(\"Area formula: (Height*Breadth)/2\")\n",
    "        a=(h*b)/2\n",
    "        print(\"Area of Triangle: \",a)\n",
    "        h1=int(input(\"Height1:\"))\n",
    "        h2=int(input(\"Height2:\"))\n",
    "        b=int(input(\"Breadth:\"))\n",
    "        print(\"Perimeter formula: Height1+Height2+Breadth\")\n",
    "        p=h1+h2+b\n",
    "        print(\"Perimeter of Triangle: \",p)"
   ]
  },
  {
   "cell_type": "code",
   "execution_count": 14,
   "id": "d2850979",
   "metadata": {},
   "outputs": [
    {
     "name": "stdout",
     "output_type": "stream",
     "text": [
      "Height:32\n",
      "Breadth:34\n",
      "Area formula: (Height*Breadth)/2\n",
      "Area of Triangle:  544.0\n",
      "Height1:2\n",
      "Height2:4\n",
      "Breadth:4\n",
      "Perimeter formula: Height1+Height2+Breadth\n",
      "Perimeter of Triangle:  10\n"
     ]
    }
   ],
   "source": [
    "triangle.triangle()"
   ]
  },
  {
   "cell_type": "code",
   "execution_count": null,
   "id": "0a7d290d",
   "metadata": {},
   "outputs": [],
   "source": []
  }
 ],
 "metadata": {
  "kernelspec": {
   "display_name": "Python 3",
   "language": "python",
   "name": "python3"
  },
  "language_info": {
   "codemirror_mode": {
    "name": "ipython",
    "version": 3
   },
   "file_extension": ".py",
   "mimetype": "text/x-python",
   "name": "python",
   "nbconvert_exporter": "python",
   "pygments_lexer": "ipython3",
   "version": "3.8.8"
  }
 },
 "nbformat": 4,
 "nbformat_minor": 5
}
