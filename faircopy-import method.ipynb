{
 "cells": [
  {
   "cell_type": "code",
   "execution_count": 1,
   "id": "5fa0d883",
   "metadata": {},
   "outputs": [],
   "source": [
    "from multiplefunctions import multipleFunctions\n",
    "#from filename import classname"
   ]
  },
  {
   "cell_type": "code",
   "execution_count": 2,
   "id": "e60333ff",
   "metadata": {},
   "outputs": [
    {
     "name": "stdout",
     "output_type": "stream",
     "text": [
      "Enter your BMI:34\n",
      "Obese\n"
     ]
    },
    {
     "data": {
      "text/plain": [
       "'Obese'"
      ]
     },
     "execution_count": 2,
     "metadata": {},
     "output_type": "execute_result"
    }
   ],
   "source": [
    "multipleFunctions.BMI()\n",
    "#ClassName.functionName()"
   ]
  },
  {
   "cell_type": "code",
   "execution_count": 3,
   "id": "9a51f004",
   "metadata": {},
   "outputs": [
    {
     "name": "stdout",
     "output_type": "stream",
     "text": [
      "Enter the number: 11\n",
      "Number 11 is an Odd Number\n"
     ]
    },
    {
     "data": {
      "text/plain": [
       "'Odd Number'"
      ]
     },
     "execution_count": 3,
     "metadata": {},
     "output_type": "execute_result"
    }
   ],
   "source": [
    "multipleFunctions.oddEven()\n",
    "#ClassName.functionName()"
   ]
  },
  {
   "cell_type": "code",
   "execution_count": null,
   "id": "8c1e0529",
   "metadata": {},
   "outputs": [],
   "source": []
  }
 ],
 "metadata": {
  "kernelspec": {
   "display_name": "Python 3",
   "language": "python",
   "name": "python3"
  },
  "language_info": {
   "codemirror_mode": {
    "name": "ipython",
    "version": 3
   },
   "file_extension": ".py",
   "mimetype": "text/x-python",
   "name": "python",
   "nbconvert_exporter": "python",
   "pygments_lexer": "ipython3",
   "version": "3.8.8"
  }
 },
 "nbformat": 4,
 "nbformat_minor": 5
}
