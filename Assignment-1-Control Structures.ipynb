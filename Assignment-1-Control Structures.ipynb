{
 "cells": [
  {
   "cell_type": "code",
   "execution_count": 1,
   "id": "57a8b3e1",
   "metadata": {},
   "outputs": [
    {
     "name": "stdout",
     "output_type": "stream",
     "text": [
      "Welcome to Assignment-1\n"
     ]
    }
   ],
   "source": [
    "print(\"Welcome to Assignment-1\")"
   ]
  },
  {
   "cell_type": "code",
   "execution_count": 2,
   "id": "35e93e84",
   "metadata": {},
   "outputs": [
    {
     "name": "stdout",
     "output_type": "stream",
     "text": [
      "Num1= 10\n",
      "Num2= 30\n",
      "Add= 40\n"
     ]
    }
   ],
   "source": [
    "Num1=10\n",
    "print(\"Num1=\",Num1)\n",
    "Num2=30\n",
    "print(\"Num2=\",Num2)\n",
    "Add=40\n",
    "print(\"Add=\",Add)"
   ]
  },
  {
   "cell_type": "code",
   "execution_count": 6,
   "id": "4c84a302",
   "metadata": {},
   "outputs": [
    {
     "name": "stdout",
     "output_type": "stream",
     "text": [
      "Enter your BMI:23\n",
      "Healthy Weight\n"
     ]
    }
   ],
   "source": [
    "#https://www.ishahospital.com/wp-content/uploads/2015/03/bmi-chart.jpg\n",
    "\n",
    "BMI=int(input(\"Enter your BMI:\"))\n",
    "if (BMI<18):\n",
    "    print(\"Under Weight\")\n",
    "elif (BMI<26):\n",
    "    print(\"Healthy Weight\")\n",
    "elif (BMI<31):\n",
    "    print(\"Over Weight\")\n",
    "elif (BMI<36):\n",
    "    print(\"Obese\")\n",
    "elif (BMI<41):\n",
    "    print(\"Severely Obese\")\n",
    "elif (BMI>41):\n",
    "    print(\"Morbidly Obese\")\n",
    "    "
   ]
  },
  {
   "cell_type": "code",
   "execution_count": 31,
   "id": "b67c2fdc",
   "metadata": {},
   "outputs": [
    {
     "name": "stdout",
     "output_type": "stream",
     "text": [
      "Enter your weight(in kgs):50\n",
      "Enter your height(in cms):153\n",
      "Your BMI is 21.36\n",
      "You are Healthy Weight\n",
      "Your ideal weight is 53.0 kgs\n"
     ]
    }
   ],
   "source": [
    "#BMI = [weight (kg) / height (cm) / height (cm)] x 10,000\n",
    "weight=float(input(\"Enter your weight(in kgs):\"))\n",
    "height=float(input(\"Enter your height(in cms):\"))\n",
    "BMI= (weight/height/height)*10000\n",
    "f_BMI=(\"%.2f\"% BMI)\n",
    "print(\"Your BMI is\",f_BMI)\n",
    "\n",
    "if (BMI<18):\n",
    "    print(\"You are Under Weight\")\n",
    "elif (BMI<26):\n",
    "    print(\"You are Healthy Weight\")\n",
    "elif (BMI<31):\n",
    "    print(\"You are Over Weight\")\n",
    "elif (BMI<36):\n",
    "    print(\"You are Obese\")\n",
    "elif (BMI<41):\n",
    "    print(\"You are Severely Obese\")\n",
    "elif (BMI>41):\n",
    "    print(\"You are Morbidly Obese\")\n",
    "\n",
    "idealweight=height-100\n",
    "print(\"Your ideal weight is\",idealweight,\"kgs\")\n",
    "\n",
    "\n"
   ]
  },
  {
   "cell_type": "code",
   "execution_count": null,
   "id": "6b750024",
   "metadata": {},
   "outputs": [],
   "source": []
  }
 ],
 "metadata": {
  "kernelspec": {
   "display_name": "Python 3",
   "language": "python",
   "name": "python3"
  },
  "language_info": {
   "codemirror_mode": {
    "name": "ipython",
    "version": 3
   },
   "file_extension": ".py",
   "mimetype": "text/x-python",
   "name": "python",
   "nbconvert_exporter": "python",
   "pygments_lexer": "ipython3",
   "version": "3.8.8"
  }
 },
 "nbformat": 4,
 "nbformat_minor": 5
}
