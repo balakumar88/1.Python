{
 "cells": [
  {
   "cell_type": "code",
   "execution_count": 1,
   "id": "d3aad462",
   "metadata": {},
   "outputs": [
    {
     "name": "stdout",
     "output_type": "stream",
     "text": [
      "HOPE AI\n"
     ]
    }
   ],
   "source": [
    "#print Statement\n",
    "print(\"HOPE AI\")"
   ]
  },
  {
   "cell_type": "code",
   "execution_count": 2,
   "id": "e35f6641",
   "metadata": {},
   "outputs": [
    {
     "name": "stdout",
     "output_type": "stream",
     "text": [
      "Enter your institute name? : HOPE AI\n",
      "HOPE AI\n"
     ]
    }
   ],
   "source": [
    "# Buy input \n",
    "print(input(\"Enter your institute name? : \"))"
   ]
  },
  {
   "cell_type": "code",
   "execution_count": 3,
   "id": "3be72716",
   "metadata": {},
   "outputs": [
    {
     "name": "stdout",
     "output_type": "stream",
     "text": [
      "Enter your name: Balakumar\n",
      "Balakumar\n",
      "Enter your age: 35\n",
      "35\n",
      "Enter your school name: Santhome Hr. Sec School\n",
      "Santhome Hr. Sec School\n",
      "Enter your degree: B.Com\n",
      "B.Com\n"
     ]
    }
   ],
   "source": [
    "#Buy inputs\n",
    "print(input(\"Enter your name: \"))\n",
    "print(input(\"Enter your age: \"))\n",
    "print(input(\"Enter your school name: \"))\n",
    "print(input(\"Enter your degree: \"))"
   ]
  },
  {
   "cell_type": "code",
   "execution_count": 3,
   "id": "e4c575ec",
   "metadata": {},
   "outputs": [
    {
     "name": "stdout",
     "output_type": "stream",
     "text": [
      "Enter number:43\n",
      "a= 43\n",
      "Enter number:34\n",
      "b= 34\n",
      "add= 77\n"
     ]
    }
   ],
   "source": [
    "#Addition\n",
    "a=int(input(\"Enter number:\"))\n",
    "print(\"a=\",a)\n",
    "b=int(input(\"Enter number:\"))\n",
    "print(\"b=\",b)\n",
    "add=a+b\n",
    "print(\"add=\",add)\n"
   ]
  },
  {
   "cell_type": "code",
   "execution_count": 4,
   "id": "c653f383",
   "metadata": {},
   "outputs": [
    {
     "name": "stdout",
     "output_type": "stream",
     "text": [
      "Enter number:43\n",
      "a= 43\n",
      "Enter number:34\n",
      "b= 34\n",
      "sub= 9\n"
     ]
    }
   ],
   "source": [
    "#Subtraction\n",
    "a=int(input(\"Enter number:\"))\n",
    "print(\"a=\",a)\n",
    "b=int(input(\"Enter number:\"))\n",
    "print(\"b=\",b)\n",
    "sub=a-b\n",
    "print(\"sub=\",sub)"
   ]
  },
  {
   "cell_type": "code",
   "execution_count": 5,
   "id": "52017640",
   "metadata": {},
   "outputs": [
    {
     "name": "stdout",
     "output_type": "stream",
     "text": [
      "Enter number:63\n",
      "a= 63\n",
      "Enter number:97\n",
      "b= 97\n",
      "Mul= 6111\n"
     ]
    }
   ],
   "source": [
    "#Multiplication\n",
    "a=int(input(\"Enter number:\"))\n",
    "print(\"a=\",a)\n",
    "b=int(input(\"Enter number:\"))\n",
    "print(\"b=\",b)\n",
    "mul=a*b\n",
    "print(\"Mul=\",mul)"
   ]
  },
  {
   "cell_type": "code",
   "execution_count": 6,
   "id": "3ab177d4",
   "metadata": {},
   "outputs": [
    {
     "name": "stdout",
     "output_type": "stream",
     "text": [
      "Enter number:76\n",
      "a= 76\n",
      "Enter number:31\n",
      "b= 31\n",
      "Division= 2.4516129032258065\n"
     ]
    }
   ],
   "source": [
    "#Division\n",
    "a=int(input(\"Enter number:\"))\n",
    "print(\"a=\",a)\n",
    "b=int(input(\"Enter number:\"))\n",
    "print(\"b=\",b)\n",
    "div=a/b\n",
    "print(\"Division=\",div)"
   ]
  },
  {
   "cell_type": "code",
   "execution_count": 7,
   "id": "38921a24",
   "metadata": {},
   "outputs": [
    {
     "name": "stdout",
     "output_type": "stream",
     "text": [
      "Enter number:76\n",
      "a= 76\n",
      "Enter number:31\n",
      "b= 31\n",
      "Floor Division = 2\n"
     ]
    }
   ],
   "source": [
    "#Floor division rounds down the result of a division operation to the nearest integer. \n",
    "#Floor division operator is represented by two forward slashes (//) in Python.\n",
    "a=int(input(\"Enter number:\"))\n",
    "print(\"a=\",a)\n",
    "b=int(input(\"Enter number:\"))\n",
    "print(\"b=\",b)\n",
    "fl_div=a//b\n",
    "print(\"Floor Division =\",fl_div)\n"
   ]
  },
  {
   "cell_type": "code",
   "execution_count": 8,
   "id": "bb56a65c",
   "metadata": {},
   "outputs": [
    {
     "name": "stdout",
     "output_type": "stream",
     "text": [
      "Enter number:76\n",
      "a= 76\n",
      "Enter number:31\n",
      "b= 31\n",
      "Modulo = 14\n"
     ]
    }
   ],
   "source": [
    "#Modulo returns the remainder of dividing the left hand operand by right hand operand.\n",
    "#The % symbol in Python is called the Modulo Operator.\n",
    "a=int(input(\"Enter number:\"))\n",
    "print(\"a=\",a)\n",
    "b=int(input(\"Enter number:\"))\n",
    "print(\"b=\",b)\n",
    "modulo=a%b\n",
    "print(\"Modulo =\",modulo)"
   ]
  },
  {
   "cell_type": "code",
   "execution_count": 9,
   "id": "3945ce96",
   "metadata": {},
   "outputs": [
    {
     "name": "stdout",
     "output_type": "stream",
     "text": [
      "Enter number:4\n",
      "a= 4\n",
      "Enter number:4\n",
      "b= 4\n",
      "Power = 256\n"
     ]
    }
   ],
   "source": [
    "#Power\n",
    "a=int(input(\"Enter number:\"))\n",
    "print(\"a=\",a)\n",
    "b=int(input(\"Enter number:\"))\n",
    "print(\"b=\",b)\n",
    "power=a**b\n",
    "print(\"Power =\",power)"
   ]
  },
  {
   "cell_type": "code",
   "execution_count": null,
   "id": "861a6ed1",
   "metadata": {},
   "outputs": [],
   "source": []
  }
 ],
 "metadata": {
  "kernelspec": {
   "display_name": "Python 3",
   "language": "python",
   "name": "python3"
  },
  "language_info": {
   "codemirror_mode": {
    "name": "ipython",
    "version": 3
   },
   "file_extension": ".py",
   "mimetype": "text/x-python",
   "name": "python",
   "nbconvert_exporter": "python",
   "pygments_lexer": "ipython3",
   "version": "3.8.8"
  }
 },
 "nbformat": 4,
 "nbformat_minor": 5
}
